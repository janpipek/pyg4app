{
 "cells": [
  {
   "cell_type": "code",
   "execution_count": 1,
   "metadata": {
    "collapsed": false
   },
   "outputs": [],
   "source": [
    "%load_ext autoreload\n",
    "%autoreload 2"
   ]
  },
  {
   "cell_type": "code",
   "execution_count": 2,
   "metadata": {
    "collapsed": false
   },
   "outputs": [],
   "source": [
    "import sys\n",
    "sys.path.append(\"..\")\n",
    "import g4app"
   ]
  },
  {
   "cell_type": "code",
   "execution_count": 3,
   "metadata": {
    "collapsed": false
   },
   "outputs": [
    {
     "data": {
      "text/plain": [
       "['/app/generateRandomSeed',\n",
       " '/run/initialize',\n",
       " '/app/addAction NumberingEventAction',\n",
       " '/app/setInt app.logEvents 1000',\n",
       " '/app/addAction MemoryRunAction']"
      ]
     },
     "execution_count": 3,
     "metadata": {},
     "output_type": "execute_result"
    }
   ],
   "source": [
    "# Create application object\n",
    "app = g4app.Application()\n",
    "list(app.render())"
   ]
  },
  {
   "cell_type": "code",
   "execution_count": 4,
   "metadata": {
    "collapsed": false
   },
   "outputs": [
    {
     "data": {
      "text/plain": [
       "['/app/generateRandomSeed',\n",
       " '/run/initialize',\n",
       " '/app/addAction NumberingEventAction',\n",
       " '/app/setInt app.logEvents 1000',\n",
       " '/app/addAction MemoryRunAction',\n",
       " '/run/beamOn 1000']"
      ]
     },
     "execution_count": 4,
     "metadata": {},
     "output_type": "execute_result"
    }
   ],
   "source": [
    "# Add run\n",
    "g4run = g4app.G4Run(1000)\n",
    "app.add_run(g4run)\n",
    "list(app.render())"
   ]
  },
  {
   "cell_type": "code",
   "execution_count": 5,
   "metadata": {
    "collapsed": false
   },
   "outputs": [
    {
     "data": {
      "text/plain": [
       "['/app/generateRandomSeed',\n",
       " '/run/initialize',\n",
       " '/app/setString one two',\n",
       " '/app/setDouble two 2.300000',\n",
       " '/app/setInt four 123',\n",
       " '/app/addAction NumberingEventAction',\n",
       " '/app/setInt app.logEvents 1000',\n",
       " '/app/addAction MemoryRunAction',\n",
       " '/run/beamOn 1000']"
      ]
     },
     "execution_count": 5,
     "metadata": {},
     "output_type": "execute_result"
    }
   ],
   "source": [
    "# Add configuration\n",
    "conf = g4app.Configuration()\n",
    "conf[\"one\"] = \"two\"\n",
    "conf[\"two\"] = 2.3\n",
    "conf[\"four\"] = 123\n",
    "app.configuration = conf\n",
    "list(app.render())"
   ]
  },
  {
   "cell_type": "code",
   "execution_count": 6,
   "metadata": {
    "collapsed": false
   },
   "outputs": [
    {
     "data": {
      "text/plain": [
       "['/app/generateRandomSeed',\n",
       " '/run/initialize',\n",
       " '/app/setString one two',\n",
       " '/app/setDouble two 2.300000',\n",
       " '/app/setInt four 123',\n",
       " '/app/addAction NumberingEventAction',\n",
       " '/app/setInt app.logEvents 1000',\n",
       " '/app/addAction MemoryRunAction',\n",
       " '/score/create/boxMesh scorer',\n",
       " '/score/mesh/boxSize 10.000000 10.000000 10.000000 mm',\n",
       " '/score/mesh/nBin 5 5 5',\n",
       " '/score/mesh/translate/reset',\n",
       " '/score/mesh/rotate/reset',\n",
       " '/score/quantity/energyDeposit  en',\n",
       " '/score/close',\n",
       " '/run/beamOn 1000',\n",
       " '/score/dumpQuantityToFile scorer en some.txt']"
      ]
     },
     "execution_count": 6,
     "metadata": {},
     "output_type": "execute_result"
    }
   ],
   "source": [
    "# Add scoring\n",
    "scorer = g4app.ScoreWrapper(\"scorer\", box_size=[10, 10, 10],\n",
    "                            n_bins=[5, 5, 5], file_name=\"some.txt\")\n",
    "scorer.add_quantity(g4app.score.quantities.energyDeposit(\"en\"))\n",
    "g4run.add_scorer(scorer)\n",
    "list(app.render())"
   ]
  },
  {
   "cell_type": "code",
   "execution_count": null,
   "metadata": {
    "collapsed": true
   },
   "outputs": [],
   "source": []
  }
 ],
 "metadata": {
  "kernelspec": {
   "display_name": "Python 2",
   "language": "python",
   "name": "python2"
  },
  "language_info": {
   "codemirror_mode": {
    "name": "ipython",
    "version": 2
   },
   "file_extension": ".py",
   "mimetype": "text/x-python",
   "name": "python",
   "nbconvert_exporter": "python",
   "pygments_lexer": "ipython2",
   "version": "2.7.9"
  }
 },
 "nbformat": 4,
 "nbformat_minor": 0
}
